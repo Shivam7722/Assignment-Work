{
 "cells": [
  {
   "attachments": {},
   "cell_type": "markdown",
   "metadata": {},
   "source": [
    "## Coding Section"
   ]
  },
  {
   "cell_type": "code",
   "execution_count": 35,
   "metadata": {},
   "outputs": [
    {
     "name": "stdout",
     "output_type": "stream",
     "text": [
      "W : 15 \n",
      "Weights : [9, 2, 3]\n"
     ]
    },
    {
     "data": {
      "text/plain": [
       "False"
      ]
     },
     "execution_count": 35,
     "metadata": {},
     "output_type": "execute_result"
    }
   ],
   "source": [
    "# creating a function for solving this weights problem\n",
    "\n",
    "def weight_problem(W, weights):\n",
    "    '''\n",
    "    Descripon:\n",
    "    This function returns the True and Flase.If given weight is calculated by other weights\n",
    "    which are in list then it will return True otherwise returns False.\n",
    "\n",
    "    W: Input weight.\n",
    "    weights: A list that contains some weights.\n",
    "    '''\n",
    "    # if weight is zero then function returns True\n",
    "    if W == 0:\n",
    "        return True\n",
    "\n",
    "    else:\n",
    "        #Applying brute force technique to solve this problem\n",
    "\n",
    "        #initializing length of the list\n",
    "        n = len(weights)\n",
    "\n",
    "        #initializing loop that will be executed n^2 times\n",
    "        for i in range(n**2):\n",
    "\n",
    "            #initialzing a variable that stores the sum values of subsets\n",
    "            current_sum = 0\n",
    "            \n",
    "            #initializing an inner loop that will be exected n times\n",
    "            for j in range(n):\n",
    "\n",
    "                #condition to check, if 1 & 1 then current sum will be sum of cuurent sum and value of weights jth position\n",
    "                if (i >> j) & 1:\n",
    "                    current_sum += weights[j]\n",
    "            \n",
    "            #condition to check, if value of current_sum is equal to the original W (weight) then return the True\n",
    "            if current_sum == W:\n",
    "                return True\n",
    "        #returning false     \n",
    "        return False\n",
    "    \n",
    "\n",
    "#taking W from the input\n",
    "W = int(input(\"Please enter any weight: \"))\n",
    "\n",
    "# taking weights from the input\n",
    "weights = input(\"Please enter the weights by separting with comma: \").split(sep=\",\")\n",
    "#converting weights datatype string to integer\n",
    "\n",
    "weights_new = [] #an empty list for storing the new weights\n",
    "for w in weights:\n",
    "    weights_new.append(int(w)) #aconverting weights datatype string to integer and appending in new weights list\n",
    "weights = weights_new # replacing or storing new weights values in old weights variable \n",
    "\n",
    "#for printing W and weights on output console\n",
    "print(f'W : {W} \\nWeights : {weights}')\n",
    "\n",
    "#calling function\n",
    "weight_problem(W, weights)"
   ]
  },
  {
   "attachments": {},
   "cell_type": "markdown",
   "metadata": {},
   "source": [
    "## Descriptive Section"
   ]
  },
  {
   "attachments": {},
   "cell_type": "markdown",
   "metadata": {},
   "source": [
    "### 1. How Do You Handle Missing or Corrupted Data in a Dataset?"
   ]
  },
  {
   "attachments": {},
   "cell_type": "markdown",
   "metadata": {},
   "source": [
    "Some common approaches for handling missing and corrupted data are as follow:\n",
    "\n",
    "1. First approach is to drop those rows or columns which have the missing or corrupted. But on one condition, If the missing and currepted data is less or small (i.e. 1-3% percent of entire data), other wise we have some another approach based on statistics for imputing the missing or curepted values.\n",
    "\n",
    "2. Imputation: Impute with mean, median and mode before applying mean, median and mode first we have to analyse the distribution and skewness of data. Mean & Median is applying on numerica data and Node is applying on categorical or string data.\n",
    "\n",
    "When to apply mean, median and mode?\n",
    "* If data is distributed normally awithout any skewness then filled missing values with **mean** .\n",
    "* If data is not norammly distributed and have the skewness in data then **median** approach is applied for imputing missing values.\n",
    "* Mode is applie on string data. \n",
    "\n",
    "We can impute the missing values wit the help ML Regression algorithm by considering the missing value column as a target column and based on other related column predict the target values for filling the missing values. \n",
    "\n",
    "We can apply KNN imputation technique by calculatig the average distance of the nearest neighbour's values. Which neighbour's distance will small then impute by those neighbour's value."
   ]
  },
  {
   "attachments": {},
   "cell_type": "markdown",
   "metadata": {},
   "source": [
    "## 2. What are the Three Stages of Building a Model in Machine Learning?"
   ]
  },
  {
   "attachments": {},
   "cell_type": "markdown",
   "metadata": {},
   "source": [
    "Three major stages of building any model in machine learning are as follows: <br>\n",
    "     **--> EDA and Data Pre-processing** <br>\n",
    "     **--> Model Building**  <br>\n",
    "     **--> Evaluation of model**  <br>\n",
    "\n",
    "1. EDA and Data Pre-processing: \n",
    " * EDA: In exploratoy data analysis, analyse the entire data by performing Univariate, Bivariate and Multivariate analysis with relevant charts or graphs for extractring some insights form the data and know the distribution, trends and pattern of the data.\n",
    "\n",
    " * Pre-Processing: In data pre-processing we perform some techniques on data such as data transformation, scaling and splitting data into train and test sets.\n",
    "\n",
    "2. Model Building: In this stage build a model by using the pre-processed data gsetting best parameters for selected ML algorithm.\n",
    "\n",
    "3. Third stage is to calculate the performance of the model. If model is based on classification problem then we calculates some key metrics such as precision score, recall score, f1-scoe and accuracy score as well as calculate confusion matrix which tells about the True and False prediction. If selected model is regressior model then we have to calculate MSE (Mean Squared Error) values and R-Squared value to know the accuracy of the model."
   ]
  },
  {
   "attachments": {},
   "cell_type": "markdown",
   "metadata": {},
   "source": [
    "Thank You"
   ]
  }
 ],
 "metadata": {
  "kernelspec": {
   "display_name": "zucol-env",
   "language": "python",
   "name": "python3"
  },
  "language_info": {
   "codemirror_mode": {
    "name": "ipython",
    "version": 3
   },
   "file_extension": ".py",
   "mimetype": "text/x-python",
   "name": "python",
   "nbconvert_exporter": "python",
   "pygments_lexer": "ipython3",
   "version": "3.9.13"
  },
  "orig_nbformat": 4
 },
 "nbformat": 4,
 "nbformat_minor": 2
}
